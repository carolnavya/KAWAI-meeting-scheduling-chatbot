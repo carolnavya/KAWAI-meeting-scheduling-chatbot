{
 "cells": [
  {
   "cell_type": "code",
   "execution_count": 1,
   "metadata": {},
   "outputs": [],
   "source": [
    "import logging  \n",
    "import pprint  \n",
    "from rasa_nlu.training_data import load_data  \n",
    "from rasa_nlu import config  \n",
    "from rasa_nlu.model import Trainer  \n",
    "from rasa_nlu.model import Interpreter  \n",
    "from rasa_nlu.test import run_evaluation  \n",
    "logfile = 'nlu_model.log'  \n",
    "\n",
    "\n"
   ]
  },
  {
   "cell_type": "code",
   "execution_count": 2,
   "metadata": {
    "scrolled": false
   },
   "outputs": [
    {
     "name": "stdout",
     "output_type": "stream",
     "text": [
      "Fitting 2 folds for each of 6 candidates, totalling 12 fits\n"
     ]
    },
    {
     "name": "stderr",
     "output_type": "stream",
     "text": [
      "[Parallel(n_jobs=1)]: Using backend SequentialBackend with 1 concurrent workers.\n",
      "[Parallel(n_jobs=1)]: Done  12 out of  12 | elapsed:    0.4s finished\n",
      "/Users/carolnavya/anaconda3/envs/DjEnv/lib/python3.7/site-packages/sklearn/externals/joblib/__init__.py:15: FutureWarning: sklearn.externals.joblib is deprecated in 0.21 and will be removed in 0.23. Please import this functionality directly from joblib, which can be installed with: pip install joblib. If this warning is raised when loading pickled models, you may need to re-serialize those models with scikit-learn 0.21+.\n",
      "  warnings.warn(msg, category=FutureWarning)\n",
      "100%|██████████| 330/330 [00:03<00:00, 105.16it/s]\n"
     ]
    },
    {
     "name": "stdout",
     "output_type": "stream",
     "text": [
      "list_events\n",
      "this week date\n",
      "{'intent': {'name': 'list_events', 'confidence': 0.8610425314236074}, 'entities': [{'start': 19, 'end': 28, 'value': 'this week', 'entity': 'date', 'confidence': 0.9170361369581428, 'extractor': 'CRFEntityExtractor'}], 'intent_ranking': [{'name': 'list_events', 'confidence': 0.8610425314236074}, {'name': 'thanks', 'confidence': 0.02447326044933141}, {'name': 'say_bye', 'confidence': 0.022258981235209696}, {'name': 'delete_event', 'confidence': 0.018687261326375375}, {'name': 'greet', 'confidence': 0.017031948411330565}, {'name': 'create_event', 'confidence': 0.01702447135360957}, {'name': 'update_event', 'confidence': 0.013954349445638357}, {'name': 'fine_ask', 'confidence': 0.013777250027496532}, {'name': 'fine_normal', 'confidence': 0.011749946327401652}], 'text': 'Show my events for this week'}\n"
     ]
    }
   ],
   "source": [
    "logfile = 'nlu_model.log'\n",
    "\n",
    "\n",
    "def train_nlu(data_path, configs, model_path):\n",
    "    logging.basicConfig(filename=logfile, level=logging.DEBUG)\n",
    "    training_data = load_data(data_path)\n",
    "    trainer = Trainer(config.load(configs))\n",
    "    trainer.train(training_data)\n",
    "    model_directory = trainer.persist(model_path, project_name='current', fixed_model_name='nlu')\n",
    "    run_evaluation(data_path, model_directory)\n",
    "\n",
    "\n",
    "def run_nlu(nlu_path):\n",
    "    logging.basicConfig(filename=logfile, level=logging.DEBUG)\n",
    "    interpreter = Interpreter.load(nlu_path)\n",
    "    #pprint.pprint(interpreter.parse(\"Hi\"))\n",
    "    #pprint.pprint(interpreter.parse(\"Can you book a meeting with Carol on 12th March at 4pm at my office?\"))\n",
    "    ans = interpreter.parse(\"Show my events for this week\")\n",
    "    #print(ans)\n",
    "    print(ans['intent']['name'])\n",
    "    ran = ans['entities']\n",
    "    for r in ran:\n",
    "        print(r['value'],r['entity'])\n",
    "    print(ans)\n",
    "\n",
    "if __name__ == '__main__':\n",
    "    train_nlu('./data/nlu.md', 'nlu_config.yml', './models')\n",
    "    run_nlu('./models/current/nlu')"
   ]
  },
  {
   "cell_type": "code",
   "execution_count": 3,
   "metadata": {},
   "outputs": [
    {
     "name": "stdout",
     "output_type": "stream",
     "text": [
      "list_events\n",
      "this week date\n",
      "{'intent': {'name': 'list_events', 'confidence': 0.8610425314236074}, 'entities': [{'start': 19, 'end': 28, 'value': 'this week', 'entity': 'date', 'confidence': 0.9170361369581428, 'extractor': 'CRFEntityExtractor'}], 'intent_ranking': [{'name': 'list_events', 'confidence': 0.8610425314236074}, {'name': 'thanks', 'confidence': 0.02447326044933141}, {'name': 'say_bye', 'confidence': 0.022258981235209696}, {'name': 'delete_event', 'confidence': 0.018687261326375375}, {'name': 'greet', 'confidence': 0.017031948411330565}, {'name': 'create_event', 'confidence': 0.01702447135360957}, {'name': 'update_event', 'confidence': 0.013954349445638357}, {'name': 'fine_ask', 'confidence': 0.013777250027496532}, {'name': 'fine_normal', 'confidence': 0.011749946327401652}], 'text': 'Show my events for this week'}\n"
     ]
    }
   ],
   "source": [
    "logging.basicConfig(filename=logfile, level=logging.DEBUG)\n",
    "interpreter = Interpreter.load('./models/current/nlu')\n",
    "ans = interpreter.parse(\"Show my events for this week\")\n",
    "#print(ans)\n",
    "print(ans['intent']['name'])\n",
    "ran = ans['entities']\n",
    "for r in ran:\n",
    "    print(r['value'],r['entity'])\n",
    "print(ans)"
   ]
  },
  {
   "cell_type": "code",
   "execution_count": null,
   "metadata": {},
   "outputs": [],
   "source": []
  },
  {
   "cell_type": "code",
   "execution_count": null,
   "metadata": {},
   "outputs": [],
   "source": []
  }
 ],
 "metadata": {
  "kernelspec": {
   "display_name": "DjEnv",
   "language": "python",
   "name": "djenv"
  },
  "language_info": {
   "codemirror_mode": {
    "name": "ipython",
    "version": 3
   },
   "file_extension": ".py",
   "mimetype": "text/x-python",
   "name": "python",
   "nbconvert_exporter": "python",
   "pygments_lexer": "ipython3",
   "version": "3.7.3"
  }
 },
 "nbformat": 4,
 "nbformat_minor": 2
}
